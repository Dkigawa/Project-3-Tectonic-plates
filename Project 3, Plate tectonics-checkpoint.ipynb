{
 "cells": [
  {
   "cell_type": "markdown",
   "metadata": {},
   "source": [
    "# Project 3: Plate Tectonics \n",
    "#### Dennis Igawa\n",
    "#### BME 450"
   ]
  },
  {
   "cell_type": "markdown",
   "metadata": {},
   "source": [
    "## Imports"
   ]
  },
  {
   "cell_type": "code",
   "execution_count": 1,
   "metadata": {},
   "outputs": [],
   "source": [
    "import pandas as pd\n",
    "import numpy as np\n",
    "import matplotlib.pyplot as plt\n",
    "import dateutil.parser\n",
    "import matplotlib\n",
    "from matplotlib.pyplot import figure\n",
    "import urllib\n",
    "import calendar\n",
    "import pytz\n",
    "from datetime import datetime\n",
    "from dateutil import tz\n",
    "\n",
    "\n",
    "# I downloaded: pyviz, geoviews, geopandas. Was unable to automate this process cleanly."
   ]
  },
  {
   "cell_type": "markdown",
   "metadata": {},
   "source": [
    "## Variables "
   ]
  },
  {
   "cell_type": "code",
   "execution_count": 2,
   "metadata": {},
   "outputs": [],
   "source": [
    "# the dimentions of the square we are looking at\n",
    "\n",
    "northLat = 53.107\n",
    "southLat = 39.891\n",
    "eastLong = -121.168\n",
    "westLong = -132.836"
   ]
  },
  {
   "cell_type": "markdown",
   "metadata": {},
   "source": [
    "## Get the File and Data"
   ]
  },
  {
   "cell_type": "code",
   "execution_count": 3,
   "metadata": {},
   "outputs": [],
   "source": [
    "tenYearsOfData = pd.read_csv('https://raw.githubusercontent.com/Dkigawa/Project-3-Tectonic-plates/master/EarthQuake%20data%20from%20jan%202010%20to%202020.csv')\n"
   ]
  },
  {
   "cell_type": "code",
   "execution_count": 6,
   "metadata": {},
   "outputs": [
    {
     "ename": "NameError",
     "evalue": "name 'file' is not defined",
     "output_type": "error",
     "traceback": [
      "\u001b[1;31m---------------------------------------------------------------------------\u001b[0m",
      "\u001b[1;31mNameError\u001b[0m                                 Traceback (most recent call last)",
      "\u001b[1;32m<ipython-input-6-e6f5ca6f90c0>\u001b[0m in \u001b[0;36m<module>\u001b[1;34m\u001b[0m\n\u001b[0;32m      2\u001b[0m \u001b[0mLong\u001b[0m \u001b[1;33m=\u001b[0m \u001b[0mnp\u001b[0m\u001b[1;33m.\u001b[0m\u001b[0marray\u001b[0m\u001b[1;33m(\u001b[0m\u001b[0mtenYearsOfData\u001b[0m\u001b[1;33m[\u001b[0m\u001b[1;34m'longitude'\u001b[0m\u001b[1;33m]\u001b[0m\u001b[1;33m[\u001b[0m\u001b[1;33m:\u001b[0m\u001b[1;33m]\u001b[0m\u001b[1;33m)\u001b[0m\u001b[1;33m\u001b[0m\u001b[1;33m\u001b[0m\u001b[0m\n\u001b[0;32m      3\u001b[0m \u001b[0mMag\u001b[0m \u001b[1;33m=\u001b[0m \u001b[0mnp\u001b[0m\u001b[1;33m.\u001b[0m\u001b[0marray\u001b[0m\u001b[1;33m(\u001b[0m\u001b[0mtenYearsOfData\u001b[0m\u001b[1;33m[\u001b[0m\u001b[1;34m'mag'\u001b[0m\u001b[1;33m]\u001b[0m\u001b[1;33m[\u001b[0m\u001b[1;33m:\u001b[0m\u001b[1;33m]\u001b[0m\u001b[1;33m)\u001b[0m\u001b[1;33m\u001b[0m\u001b[1;33m\u001b[0m\u001b[0m\n\u001b[1;32m----> 4\u001b[1;33m \u001b[0mtempTime\u001b[0m \u001b[1;33m=\u001b[0m \u001b[0mfile\u001b[0m\u001b[1;33m[\u001b[0m\u001b[1;34m'time'\u001b[0m\u001b[1;33m]\u001b[0m\u001b[1;33m\u001b[0m\u001b[1;33m\u001b[0m\u001b[0m\n\u001b[0m\u001b[0;32m      5\u001b[0m \u001b[0mnewTimeList\u001b[0m \u001b[1;33m=\u001b[0m \u001b[1;33m[\u001b[0m\u001b[1;33m]\u001b[0m\u001b[1;33m\u001b[0m\u001b[1;33m\u001b[0m\u001b[0m\n\u001b[0;32m      6\u001b[0m \u001b[1;33m\u001b[0m\u001b[0m\n",
      "\u001b[1;31mNameError\u001b[0m: name 'file' is not defined"
     ]
    }
   ],
   "source": [
    "Lat = np.array(tenYearsOfData['latitude'][:])\n",
    "Long = np.array(tenYearsOfData['longitude'][:])\n",
    "Mag = np.array(tenYearsOfData['mag'][:])\n",
    "tempTime = file['time']\n",
    "newTimeList = []\n",
    "\n",
    "for timeString in time:\n",
    "    convertedTime = datetime.strptime(timeString, '%Y-%m-%dT%H:%M:%S.%fZ')\n",
    "    newTimeList.append(convertedTime)\n",
    "\n",
    "\n",
    "from_zone = tz.tzutc()\n",
    "to_zone = tz.tzlocal()\n",
    "\n",
    "# Convert from UTC to local\n",
    "for timeVal in newTimeList:\n",
    "    timeVal = timeVal.replace(tzinfo=from_zone)\n",
    "    timeVal = timeVal.astimezone(to_zone)\n"
   ]
  },
  {
   "cell_type": "code",
   "execution_count": 5,
   "metadata": {},
   "outputs": [
    {
     "ename": "SyntaxError",
     "evalue": "unexpected EOF while parsing (<ipython-input-5-60065e1fe383>, line 4)",
     "output_type": "error",
     "traceback": [
      "\u001b[1;36m  File \u001b[1;32m\"<ipython-input-5-60065e1fe383>\"\u001b[1;36m, line \u001b[1;32m4\u001b[0m\n\u001b[1;33m    Qtime.append(dateutil.parser.isoparse(tenYearsOfData['time'][i])\u001b[0m\n\u001b[1;37m                                                                    ^\u001b[0m\n\u001b[1;31mSyntaxError\u001b[0m\u001b[1;31m:\u001b[0m unexpected EOF while parsing\n"
     ]
    }
   ],
   "source": []
  },
  {
   "cell_type": "code",
   "execution_count": null,
   "metadata": {},
   "outputs": [],
   "source": []
  },
  {
   "cell_type": "markdown",
   "metadata": {},
   "source": [
    "## Plot Mag over Time"
   ]
  },
  {
   "cell_type": "code",
   "execution_count": null,
   "metadata": {},
   "outputs": [],
   "source": [
    "plt.figure(figsize=(20,10))\n",
    "\n",
    "plt.scatter(Qtime, Mag)    \n",
    "plt.title('Magnitude over time')\n",
    "\n",
    "plt.show()"
   ]
  },
  {
   "cell_type": "code",
   "execution_count": null,
   "metadata": {},
   "outputs": [],
   "source": [
    "locationImage = urllib.request.urlopen('https://raw.githubusercontent.com/Dkigawa/Project-3-Tectonic-plates/master/Quakemap%20WA.png')\n",
    "mapedImage = plt.imread(locationImage)\n",
    "boxDimen = (northLat, eastLong, southLat, westLong)\n",
    "\n",
    "fig, ax = plt.subplots(figsize = (8,7))\n",
    "\n",
    "for counter in range(0, len(Long)):\n",
    "\n",
    "    if(Mag[counter] > 6):\n",
    "        plt.scatter(Long[counter], Lat[counter], color = [(81/256, 6/256, 6/256)], s = 200)\n",
    "    elif(Mag[counter] > 5):\n",
    "        plt.scatter(Long[counter], Lat[counter], color = [(107/256, 29/256, 28/256)], s = 100)\n",
    "    elif(Mag[counter] > 4):\n",
    "        plt.scatter(Long[counter], Lat[counter], color = [(134/256, 50/256, 48/256)], s = 50)\n",
    "    elif(Mag[counter] > 3):    \n",
    "        plt.scatter(Long[counter], Lat[counter], color = [(162/256, 71/256, 69/256)], s = 25) \n",
    "    else :\n",
    "        plt.scatter(Long[counter], Lat[counter], color = [(191/256, 92/256, 91/256)], s = 15) \n",
    "    \n",
    "    plt.title('Earthquake Locations on the Juan De Fuca Plate')\n",
    "    plt.xlabel(\"Longitude\")\n",
    "    plt.ylabel(\"Latitude\")\n",
    "    \n",
    "    ax.imshow(mapedImage, zorder=0, extent = boxDimen, aspect= 'equal')\n",
    "    ax.set_xlim(westLong, eastLong)\n",
    "    ax.set_ylim(southLat, northLat)\n"
   ]
  },
  {
   "cell_type": "code",
   "execution_count": null,
   "metadata": {},
   "outputs": [],
   "source": []
  }
 ],
 "metadata": {
  "kernelspec": {
   "display_name": "Python 3",
   "language": "python",
   "name": "python3"
  },
  "language_info": {
   "codemirror_mode": {
    "name": "ipython",
    "version": 3
   },
   "file_extension": ".py",
   "mimetype": "text/x-python",
   "name": "python",
   "nbconvert_exporter": "python",
   "pygments_lexer": "ipython3",
   "version": "3.7.4"
  }
 },
 "nbformat": 4,
 "nbformat_minor": 2
}
